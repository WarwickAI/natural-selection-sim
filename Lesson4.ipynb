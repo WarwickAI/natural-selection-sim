{
  "nbformat": 4,
  "nbformat_minor": 0,
  "metadata": {
    "colab": {
      "name": "Untitled9.ipynb",
      "provenance": [],
      "authorship_tag": "ABX9TyN99Vn6/yWpwkF3Jqq/jw70",
      "include_colab_link": true
    },
    "kernelspec": {
      "name": "python3",
      "display_name": "Python 3"
    }
  },
  "cells": [
    {
      "cell_type": "markdown",
      "metadata": {
        "id": "view-in-github",
        "colab_type": "text"
      },
      "source": [
        "<a href=\"https://colab.research.google.com/github/WarwickAI/natural-selection-sim/blob/main/Lesson4.ipynb\" target=\"_parent\"><img src=\"https://colab.research.google.com/assets/colab-badge.svg\" alt=\"Open In Colab\"/></a>"
      ]
    },
    {
      "cell_type": "markdown",
      "metadata": {
        "id": "kYz6V_2kQSIE"
      },
      "source": [
        "In our simulation, we're going to have hundreds of little cells that are competing for resources. Each cell is going to have:\r\n",
        "* an energy level\r\n",
        "* a sense distance, indicating how far away it can sense food\r\n",
        "* an x-coordinate\r\n",
        "* a y-coordinate \r\n",
        "\r\n",
        "How would we manage this in code? \r\n",
        "\r\n",
        "One solution, would be something like the following..."
      ]
    },
    {
      "cell_type": "code",
      "metadata": {
        "colab": {
          "base_uri": "https://localhost:8080/"
        },
        "id": "SDlRDH_SQGmu",
        "outputId": "fa9ac1f7-f158-4ba4-8788-dee7cbea33cf"
      },
      "source": [
        "cell1energy = 10\r\n",
        "cell1senseDistance = 3\r\n",
        "cell1x, cell1y = 0, 0\r\n",
        "\r\n",
        "cell2energy = 10\r\n",
        "cell2senseDistance = 3\r\n",
        "cell2x, cell2y = 0, 0\r\n",
        "\r\n",
        "cell2energy = 10\r\n",
        "cell2senseDistance = 3\r\n",
        "cell3x, cell3y = 0, 0\r\n",
        "\r\n",
        "..."
      ],
      "execution_count": 2,
      "outputs": [
        {
          "output_type": "execute_result",
          "data": {
            "text/plain": [
              "Ellipsis"
            ]
          },
          "metadata": {
            "tags": []
          },
          "execution_count": 2
        }
      ]
    },
    {
      "cell_type": "markdown",
      "metadata": {
        "id": "aKL9Voi8RNKf"
      },
      "source": [
        "But this is obviously not going to work if we want hundreds of cells. Further, if we have 100 cells and a new cell is created, how do we add the 101st cell? It would be problematic. \r\n",
        "\r\n",
        "So, we use objects. \r\n",
        "\r\n",
        "An object is structure that groups together properties that relate to the same thing. For example, an object for our cell might look like:"
      ]
    },
    {
      "cell_type": "code",
      "metadata": {
        "colab": {
          "base_uri": "https://localhost:8080/"
        },
        "id": "LWg2-lr5R1Lt",
        "outputId": "3015e321-8386-4d0c-8257-f4025f5ffc94"
      },
      "source": [
        "class Cell:\r\n",
        "  energy = 10\r\n",
        "  senseDistance = 3\r\n",
        "  x = 0 \r\n",
        "  y = 0 \r\n",
        "\r\n",
        "cell1 = Cell()\r\n",
        "cell2 = Cell()\r\n",
        "cell3 = Cell()"
      ],
      "execution_count": 4,
      "outputs": [
        {
          "output_type": "stream",
          "text": [
            "10\n"
          ],
          "name": "stdout"
        }
      ]
    },
    {
      "cell_type": "markdown",
      "metadata": {
        "id": "1Mnqn3_KVe6t"
      },
      "source": [
        "Now we have 3 cell objects, each with some attributes we can change. \r\n",
        "\r\n",
        "We've achieved this by creating ***instances of the Cell class***\r\n",
        "\r\n",
        "A class is a blueprint for making objects. It tells us the structure and functionality of the object. \r\n",
        "\r\n",
        "Remember the dot notation from last lesson? That's how we access attributes from an object:"
      ]
    },
    {
      "cell_type": "code",
      "metadata": {
        "colab": {
          "base_uri": "https://localhost:8080/"
        },
        "id": "OG21O4mUVtj0",
        "outputId": "0c977f2d-3256-4850-f559-f630b2b80827"
      },
      "source": [
        "class Cell:\r\n",
        "  energy = 10\r\n",
        "  senseDistance = 3\r\n",
        "  x = 0 \r\n",
        "  y = 0 \r\n",
        "\r\n",
        "cell1 = Cell()\r\n",
        "\r\n",
        "print(cell1.energy)"
      ],
      "execution_count": 7,
      "outputs": [
        {
          "output_type": "stream",
          "text": [
            "10\n"
          ],
          "name": "stdout"
        }
      ]
    },
    {
      "cell_type": "markdown",
      "metadata": {
        "id": "uLBs_iAYXBI0"
      },
      "source": [
        "What if we want to create cells, but don't want them to have the same information? In this case, we're going to cause hundreds of cells to start in the same spot. It would be better if we could pass different values to each call to Cell(), like we do with functions.\r\n",
        "\r\n",
        "Luckily, we can, using a special function called `__init__()`  "
      ]
    },
    {
      "cell_type": "code",
      "metadata": {
        "colab": {
          "base_uri": "https://localhost:8080/"
        },
        "id": "xjOVDH7laiPX",
        "outputId": "3c0933ea-5fd1-4800-bff0-6652ad929509"
      },
      "source": [
        "class Cell:\r\n",
        "  def __init__(self, x, y, energy, senseDistance):\r\n",
        "    self.x = x\r\n",
        "    self.y = y\r\n",
        "    self.energy = energy\r\n",
        "    self.senseDistance = senseDistance\r\n",
        "\r\n",
        "cell1 = Cell(17, 14, 10, 3)\r\n",
        "\r\n",
        "print(cell1.x)\r\n",
        "print(cell1.y)\r\n"
      ],
      "execution_count": 9,
      "outputs": [
        {
          "output_type": "stream",
          "text": [
            "17\n",
            "14\n"
          ],
          "name": "stdout"
        }
      ]
    }
  ]
}