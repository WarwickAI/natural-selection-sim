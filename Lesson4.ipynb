{
  "nbformat": 4,
  "nbformat_minor": 0,
  "metadata": {
    "colab": {
      "name": "Untitled9.ipynb",
      "provenance": [],
      "authorship_tag": "ABX9TyNuj+m11xHIGBi87O3PZazt",
      "include_colab_link": true
    },
    "kernelspec": {
      "name": "python3",
      "display_name": "Python 3"
    }
  },
  "cells": [
    {
      "cell_type": "markdown",
      "metadata": {
        "id": "view-in-github",
        "colab_type": "text"
      },
      "source": [
        "<a href=\"https://colab.research.google.com/github/WarwickAI/natural-selection-sim/blob/main/Lesson4.ipynb\" target=\"_parent\"><img src=\"https://colab.research.google.com/assets/colab-badge.svg\" alt=\"Open In Colab\"/></a>"
      ]
    },
    {
      "cell_type": "markdown",
      "metadata": {
        "id": "kYz6V_2kQSIE"
      },
      "source": [
        "In our simulation, we're going to have hundreds of little cells that are competing for resources. Each cell is going to have:\r\n",
        "* a generation, e.g. first generation, second generation etc\r\n",
        "* an x-coordinate \r\n",
        "* a y-coordinate \r\n",
        "* an energy level\r\n",
        "* a sense distance, indicating how far away it can sense food\r\n",
        "\r\n",
        "How would we manage this in code? \r\n",
        "\r\n",
        "One solution, would be something like the following..."
      ]
    },
    {
      "cell_type": "code",
      "metadata": {
        "colab": {
          "base_uri": "https://localhost:8080/"
        },
        "id": "SDlRDH_SQGmu",
        "outputId": "a9601753-927c-427d-9a76-501195b99b1e"
      },
      "source": [
        "cell1_energy = 10\r\n",
        "cell1_sense_distance = 3\r\n",
        "cell1_x, cell1_y = 0, 0\r\n",
        "\r\n",
        "cell2_energy = 10\r\n",
        "cell2_sense_distance = 3\r\n",
        "cell2_x, cell1_y = 0, 0\r\n",
        "\r\n",
        "cell3_energy = 10\r\n",
        "cell3_sense_distance = 3\r\n",
        "cell3_x, cell1_y = 0, 0\r\n",
        "\r\n",
        "..."
      ],
      "execution_count": 16,
      "outputs": [
        {
          "output_type": "execute_result",
          "data": {
            "text/plain": [
              "Ellipsis"
            ]
          },
          "metadata": {
            "tags": []
          },
          "execution_count": 16
        }
      ]
    },
    {
      "cell_type": "markdown",
      "metadata": {
        "id": "aKL9Voi8RNKf"
      },
      "source": [
        "But this is obviously not going to work if we want hundreds of cells. Further, if we have 100 cells and a new cell is created, how do we add the 101st cell? It would be problematic. \r\n",
        "\r\n",
        "So, we use objects. \r\n",
        "\r\n",
        "An object is structure that groups together properties that relate to the same thing. For example, an object for our cell might look like:"
      ]
    },
    {
      "cell_type": "code",
      "metadata": {
        "colab": {
          "base_uri": "https://localhost:8080/"
        },
        "id": "LWg2-lr5R1Lt",
        "outputId": "5f920ac8-3a3c-4c2e-e650-64cf3493d221"
      },
      "source": [
        "class Cell:\r\n",
        "  energy = 10\r\n",
        "  sense_distance = 3\r\n",
        "  x = 0 \r\n",
        "  y = 0 \r\n",
        "\r\n",
        "# here we create 3 cell objects \r\n",
        "cell1 = Cell()\r\n",
        "cell2 = Cell()\r\n",
        "cell3 = Cell()\r\n",
        "\r\n",
        "# we know that each cell has an energy level, sense_distance, x and y co-ordinate\r\n",
        "print(cell1.x)\r\n",
        "print(cell2.x)"
      ],
      "execution_count": 5,
      "outputs": [
        {
          "output_type": "stream",
          "text": [
            "0\n",
            "0\n"
          ],
          "name": "stdout"
        }
      ]
    },
    {
      "cell_type": "markdown",
      "metadata": {
        "id": "1Mnqn3_KVe6t"
      },
      "source": [
        "Now we have 3 cell objects, each with some attributes we can change. \r\n",
        "\r\n",
        "We've achieved this by creating ***instances of the Cell class***\r\n",
        "\r\n",
        "A class is a blueprint for making objects. It tells us the structure and functionality of the object. \r\n",
        "\r\n",
        "Remember the dot notation from last lesson? That's how we access attributes from an object:"
      ]
    },
    {
      "cell_type": "code",
      "metadata": {
        "colab": {
          "base_uri": "https://localhost:8080/"
        },
        "id": "OG21O4mUVtj0",
        "outputId": "0c977f2d-3256-4850-f559-f630b2b80827"
      },
      "source": [
        "class Cell:\r\n",
        "  energy = 10\r\n",
        "  sense_distance = 3\r\n",
        "  x = 0 \r\n",
        "  y = 0 \r\n",
        "\r\n",
        "# create a cell object\r\n",
        "cell1 = Cell()\r\n",
        "\r\n",
        "print(cell1.energy)"
      ],
      "execution_count": null,
      "outputs": [
        {
          "output_type": "stream",
          "text": [
            "10\n"
          ],
          "name": "stdout"
        }
      ]
    },
    {
      "cell_type": "markdown",
      "metadata": {
        "id": "uLBs_iAYXBI0"
      },
      "source": [
        "What if we want to create cells, but don't want them to have the same information? In this case, we're going to cause hundreds of cells to start in the same spot. It would be better if we could pass different values to each call to Cell(), like we do with functions.\r\n",
        "\r\n",
        "Luckily, we can, using a special function called `__init__()` - you can think of this like constructor method that is called once, when the object is first created. It's useful for calling some initial code, like setting the value of some variables. "
      ]
    },
    {
      "cell_type": "code",
      "metadata": {
        "id": "xjOVDH7laiPX"
      },
      "source": [
        "class Cell:\r\n",
        "  def __init__(self, generation, x, y, energy, sense_distance):\r\n",
        "    # Note that his code only gets called once - when the object is first created\r\n",
        "    self.x = x\r\n",
        "    self.y = y\r\n",
        "    self.energy = energy\r\n",
        "    self.sens_distance = sens_distance\r\n",
        "\r\n",
        "# create a cell with a generation of 0, co-ordinates (17,14), energy 10, and sense_distance 3\r\n",
        "cell1 = Cell(0, 17, 14, 10, 3)\r\n",
        "\r\n",
        "print(cell1.x)\r\n",
        "print(cell1.y)\r\n"
      ],
      "execution_count": null,
      "outputs": []
    },
    {
      "cell_type": "markdown",
      "metadata": {
        "id": "fg4TxgY4y1SX"
      },
      "source": [
        "Let's talk about that word **self**. \r\n",
        "\r\n",
        "**self** is used to refer to the current instance of the class - in other words it tells the object to look at itself, and gets its own values. It might help you to visualise the word **self** as **this** or **me** instead, to get across the idea that the object is calling its own methods and using its own attributes.\r\n",
        "\r\n",
        "Speaking of methods, let's add some of those to our class, so that we can call them from our objects using dot notation. Let's add a function called **mutate()**, which we'll call when we will call in our *constructor method*, when the object is first created."
      ]
    },
    {
      "cell_type": "code",
      "metadata": {
        "colab": {
          "base_uri": "https://localhost:8080/"
        },
        "id": "nZlo-lab6bFz",
        "outputId": "a64f19ea-4c27-4f83-fa6c-88560f26ea05"
      },
      "source": [
        "import random\r\n",
        "\r\n",
        "class Cell:\r\n",
        "  def __init__(self, generation, x, y, energy, sense_distance):\r\n",
        "    self.generation = generation\r\n",
        "    self.x = x\r\n",
        "    self.y = y\r\n",
        "    self.energy = energy\r\n",
        "    self.sense_distance = sense_distance\r\n",
        "\r\n",
        "    self.mutate() # this will only ever get called once, when the cell is first created\r\n",
        "\r\n",
        "  def mutate(self): \r\n",
        "    change = random.choice([-1,1])\r\n",
        "    if self.sense_distance + change >= 1:\r\n",
        "      self.sense_distance += change\r\n",
        "\r\n",
        "# create two cells\r\n",
        "cell1 = Cell(0, 17, 14, 10, 3)\r\n",
        "cell2 = Cell(0, 17, 14, 10, 3)\r\n",
        "\r\n",
        "# we can also call the mutate() method from outside the class\r\n",
        "# note we DONT need to use self since we're OUTSIDE the class\r\n",
        "cell2.mutate()\r\n",
        "\r\n",
        "print(\"Cell 1 sense distance is \" + str(cell1.sense_distance))\r\n",
        "print(\"Cell 2 sense distance is \" + str(cell2.sense_distance))\r\n",
        "\r\n"
      ],
      "execution_count": 33,
      "outputs": [
        {
          "output_type": "stream",
          "text": [
            "Cell 1 sense distance is 4\n",
            "Cell 2 sense distance is 3\n"
          ],
          "name": "stdout"
        }
      ]
    },
    {
      "cell_type": "markdown",
      "metadata": {
        "id": "X8DRDCFV-Rgv"
      },
      "source": [
        "Note that we use pass **self** to the function, so that we can access the attribtutes of whichever specific instance we're dealing with. \r\n",
        "\r\n",
        "When this function is called, we will now update sense_distance by +1 or -1, as long as the result is a sense_distance of >= 1. "
      ]
    },
    {
      "cell_type": "markdown",
      "metadata": {
        "id": "BFQpUlJt_DRU"
      },
      "source": [
        "**Exercise 1**) Every time a new cell is created, we call mutate. This isn't ideal, because in real life mutations are very rare. Change it so that the function is only called for 10% of the cells that are created (hint: you can use random.random() to get a random number number between 0 and 1) "
      ]
    },
    {
      "cell_type": "markdown",
      "metadata": {
        "id": "XnOorr7dE2O7"
      },
      "source": [
        "**Exercise 2**) Write your own function called move_random(), that changes the x and y co-ordinate of the cell by either -1, 0 or 1. (Hint: you can use `random.choice([-1, 0, 1])` to get a random choice of -1, 0 or 1)"
      ]
    },
    {
      "cell_type": "code",
      "metadata": {
        "id": "iycCQEXEFXR3"
      },
      "source": [
        "import random\r\n",
        "\r\n",
        "class Cell:\r\n",
        "    def __init__(self, generation, x, y, energy, sense_distance):\r\n",
        "        self.generation = generation\r\n",
        "        self.x = x\r\n",
        "        self.y = y\r\n",
        "        self.energy = energy\r\n",
        "        self.sense_distance = sense_distance\r\n",
        "\r\n",
        "  def move_random(self):\r\n",
        "    # write your function here! \r\n",
        "    # remember, every time this gets called, we want to randomly change x and y by either -1, 0 or 1\r\n",
        "    # you can use random.choice([-1, 0, 1]) to get that value\r\n",
        "\r\n",
        "\r\n",
        "# create two cells\r\n",
        "cell1 = Cell(0, 1, 1, 10, 3)\r\n",
        "\r\n",
        "# code to call your new function:\r\n",
        "for i in range(100):\r\n",
        "  cell1.move_random()\r\n",
        "  print(\"Cell 1 has moved to (\" + str(cell1.x) + \",\" + str(cell1.y) + \")\") "
      ],
      "execution_count": null,
      "outputs": []
    },
    {
      "cell_type": "markdown",
      "metadata": {
        "id": "9ZtKZ_B7Inzo"
      },
      "source": [
        "Our map that the cells are allowed to move around in is a 20x20 grid. "
      ]
    }
  ]
}