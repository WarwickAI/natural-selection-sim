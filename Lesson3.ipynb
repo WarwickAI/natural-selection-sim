{
  "nbformat": 4,
  "nbformat_minor": 0,
  "metadata": {
    "colab": {
      "name": "lesson-3.ipynb",
      "provenance": [],
      "collapsed_sections": [],
      "toc_visible": true,
      "authorship_tag": "ABX9TyOFotdllBOaW7ifLXyRNMQm",
      "include_colab_link": true
    },
    "kernelspec": {
      "name": "python3",
      "display_name": "Python 3"
    }
  },
  "cells": [
    {
      "cell_type": "markdown",
      "metadata": {
        "id": "view-in-github",
        "colab_type": "text"
      },
      "source": [
        "<a href=\"https://colab.research.google.com/github/WarwickAI/natural-selection-sim/blob/main/Lesson3.ipynb\" target=\"_parent\"><img src=\"https://colab.research.google.com/assets/colab-badge.svg\" alt=\"Open In Colab\"/></a>"
      ]
    },
    {
      "cell_type": "markdown",
      "metadata": {
        "id": "nYLhLP4E2aV3"
      },
      "source": [
        "<p align=\"center\">\r\n",
        "    <img src=\"data:image/png;base64,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\" alt=\"WAI Logo\"/>\r\n",
        "</p>\r\n",
        "\r\n",
        "# Lesson 3\r\n",
        "As you have learned in the the first lesson, variables are just containers for storing values of a certain type. \r\n",
        "\r\n",
        "In this lesson, we will cover some special types: *Lists* and *Dictionaries*.\r\n"
      ]
    },
    {
      "cell_type": "markdown",
      "metadata": {
        "id": "yHqELauS4Uns"
      },
      "source": [
        "## Lists\r\n",
        "A list is simply a series of *ordered* containers (memory locations) which can hold a certain value.\r\n",
        "\r\n",
        "In Python, to declare a list we use `[` `]`. E.g.\r\n",
        "\r\n",
        "```python\r\n",
        "shopping_list = []\r\n",
        "```\r\n",
        "\r\n",
        "The code above creates an empty list and stores it in **shopping_list**.\r\n",
        "Obviously an empty list is not of much use so let's add some elements.\r\n",
        "\r\n",
        "```python\r\n",
        "#                   0         1        2\r\n",
        "shopping_list = [\"bread\", \"cheese\", \"butter\"]\r\n",
        "```\r\n",
        "\r\n",
        "The elements of a list are separated by commas.\r\n",
        "The code above initializes a list with the elements `bread`, `cheese` and `butter`. Much like in other areas of Computer Science the position of the elements in a list starts from zero. This means that lists are **zero-indexed**.\r\n",
        "In this case, we can say that the *index* (position) of `bread` is 0, 1 for `cheese` and so on.\r\n",
        "\r\n",
        "In Python, lists can contain elements of any type. The following snippet of code would be valid.\r\n",
        "```python\r\n",
        "shopping_list = [2020, 2021, 2023, \"bread\", \"cheese\", \"butter\"]\r\n",
        "```\r\n",
        "In the case of a shopping list this is not very useful and mixing elements of different types is generally not good practice.\r\n",
        "\r\n",
        "### Operations\r\n",
        "There are many operations which can be executed on a list.\r\n",
        "In this section we will cover some of the main operations:\r\n",
        "\r\n",
        "*   list[index]\r\n",
        "*   append\r\n",
        "*   insert\r\n",
        "*   remove\r\n",
        "*   clear\r\n",
        "*   len(list)\r\n",
        "\r\n",
        "If you are curious you can find more operations [here](https://docs.python.org/3.8/tutorial/datastructures.html)."
      ]
    },
    {
      "cell_type": "markdown",
      "metadata": {
        "id": "fi3J3Q67HqZC"
      },
      "source": [
        "#### list**[index]**\r\n",
        "\r\n",
        "Returns the element at the given **index**."
      ]
    },
    {
      "cell_type": "code",
      "metadata": {
        "id": "UOY4LQjRH4Zj"
      },
      "source": [
        "shopping_list = [\"bread\", \"cheese\", \"butter\"]\r\n",
        "\r\n",
        "print(shopping_list[1])"
      ],
      "execution_count": null,
      "outputs": []
    },
    {
      "cell_type": "markdown",
      "metadata": {
        "id": "SiRTyzuhIJhi"
      },
      "source": [
        "#### list**[index]** = **x**\r\n",
        "Replaces the element in the given **index** with **x**."
      ]
    },
    {
      "cell_type": "code",
      "metadata": {
        "id": "ofVPEoAhIhan"
      },
      "source": [
        "shopping_list = [\"bread\", \"cheese\", \"butter\"]\r\n",
        "\r\n",
        "print(shopping_list)\r\n",
        "\r\n",
        "shopping_list[2] = \"cream cheese\"\r\n",
        "\r\n",
        "print(shopping_list)"
      ],
      "execution_count": null,
      "outputs": []
    },
    {
      "cell_type": "markdown",
      "metadata": {
        "id": "UmIgVqkcG0Oe"
      },
      "source": [
        "#### list.**append(x)**\r\n",
        "Add a element **x** to the *end* of the list.\r\n",
        "\r\n",
        "This is done using dot notation.\r\n",
        "We'll come back to dot notation and objects in more detail in the next lesson."
      ]
    },
    {
      "cell_type": "code",
      "metadata": {
        "id": "apaMKUISHRfr"
      },
      "source": [
        "# Create an empty list\r\n",
        "shopping_list = []\r\n",
        "\r\n",
        "# Add \"bread\" to the shopping list\r\n",
        "shopping_list.append(\"bread\")\r\n",
        "\r\n",
        "# Print our list\r\n",
        "print(shopping_list)\r\n",
        "\r\n",
        "shopping_list.append(\"butter\")\r\n",
        "\r\n",
        "print(shopping_list)"
      ],
      "execution_count": null,
      "outputs": []
    },
    {
      "cell_type": "markdown",
      "metadata": {
        "id": "kkycESAPIlm0"
      },
      "source": [
        "#### list.**insert(i, x)**\r\n",
        "Insert the element **x** in the given position **i**.\r\n",
        "\r\n",
        "*Note:* Recall that in Python lists are **zero-indexed**."
      ]
    },
    {
      "cell_type": "code",
      "metadata": {
        "id": "r4kHr95MQ4BB"
      },
      "source": [
        "shopping_list = [\"bread\", \"cheese\"]\r\n",
        "\r\n",
        "print(shopping_list)\r\n",
        "\r\n",
        "shopping_list.insert(1, \"butter\")\r\n",
        "print(shopping_list)"
      ],
      "execution_count": null,
      "outputs": []
    },
    {
      "cell_type": "markdown",
      "metadata": {
        "id": "6yJuPKYpTDtN"
      },
      "source": [
        "#### list.**remove(x)**\r\n",
        "Removes the element **x** from the list."
      ]
    },
    {
      "cell_type": "code",
      "metadata": {
        "id": "enkR1lOU_BWI"
      },
      "source": [
        "shopping_list = [\"bread\", \"cheese\", \"butter\"]\r\n",
        "\r\n",
        "print(shopping_list)\r\n",
        "\r\n",
        "shopping_list.remove(\"bread\")\r\n",
        "print(shopping_list)"
      ],
      "execution_count": null,
      "outputs": []
    },
    {
      "cell_type": "markdown",
      "metadata": {
        "id": "XO0K7CTb_QZa"
      },
      "source": [
        "#### list.**clear()**\r\n",
        "Removes all elements from the list."
      ]
    },
    {
      "cell_type": "code",
      "metadata": {
        "id": "sZzO2bpd_W-9"
      },
      "source": [
        "shopping_list = [\"bread\", \"cheese\", \"butter\"]\r\n",
        "\r\n",
        "print(shopping_list)\r\n",
        "\r\n",
        "shopping_list.clear()\r\n",
        "print(shopping_list)"
      ],
      "execution_count": null,
      "outputs": []
    },
    {
      "cell_type": "markdown",
      "metadata": {
        "id": "YGbuCTi9_ntM"
      },
      "source": [
        "#### **len(**list**)**\r\n",
        "Returns the number of elements in a list.\r\n"
      ]
    },
    {
      "cell_type": "code",
      "metadata": {
        "id": "pApExR83_59B"
      },
      "source": [
        "shopping_list = [\"bread\", \"cheese\", \"butter\", \"eggs\"]\r\n",
        "\r\n",
        "print(shopping_list)\r\n",
        "\r\n",
        "print(\"There are \" + len(shopping_list) + \" items in the shopping list!\")"
      ],
      "execution_count": null,
      "outputs": []
    },
    {
      "cell_type": "markdown",
      "metadata": {
        "id": "-KFyK6Xm4aNU"
      },
      "source": [
        "## Dictionaries\r\n",
        "Dictionaries are slightly move involved than lists.\r\n",
        "\r\n",
        "A dictionary is data structure which maps a *key* to a *value*.\r\n",
        "\r\n",
        "They are also *very fast*! That is, the *value* can be obtained very quickly if you you know what you are looking for (the *key*).\r\n",
        "\r\n",
        "For example, imagine that you want to want to store the name of your contacts and their respective Snapchat username. Ideally, you'd want to\r\n",
        "do this efficiently so that you don't have to search through your entire list of contacts. You can use a dictionary for this!\r\n",
        "\r\n",
        "A dictionary is declared using `{` and `}` with pairs of `key: value` separated by commas.\r\n",
        "\r\n",
        "\r\n"
      ]
    },
    {
      "cell_type": "code",
      "metadata": {
        "colab": {
          "base_uri": "https://localhost:8080/"
        },
        "id": "n8GiqdbL2hNs",
        "outputId": "71e7da24-2d08-46c9-d4e1-09ef93057eca"
      },
      "source": [
        "contacts = {\r\n",
        "  \"john\": \"john_2388\",\r\n",
        "  \"alice\": \"alic3_99\",\r\n",
        "  \"bob\": \"b0b_2021\"\r\n",
        "}\r\n",
        "\r\n",
        "print(contacts.get(\"john\"))"
      ],
      "execution_count": null,
      "outputs": [
        {
          "output_type": "stream",
          "text": [
            "john_2388\n"
          ],
          "name": "stdout"
        }
      ]
    },
    {
      "cell_type": "markdown",
      "metadata": {
        "id": "d6ydI7579j1B"
      },
      "source": [
        "Getting the Snapchat username of `john` is as simple as `contacts.get(\"john\")`.\r\n",
        "\r\n",
        "In this case we only have 3 contacts on our dictionary, so searching through all of them would still be quick, but as your number of contacts grows this would become very slow.\r\n",
        "\r\n",
        "Dictionaries are more generally called in Computer Science *hash tables* and have a wide range of applications.\r\n",
        "\r\n",
        "### Operations\r\n",
        "There are multiple operations which can be executed on a dictionary.\r\n",
        "In this course we will cover some of the main operations:\r\n",
        "\r\n",
        "*   dictionary.**get(key)**\r\n",
        "*   key **in** dictionary\r\n",
        "*   dictionary[**key**] = **value**\r\n",
        "*   dictionary.**pop(key)**\r\n",
        "\r\n",
        "As always, you can refer to the official [Python documentation](https://docs.python.org/3/library/stdtypes.html#typesmapping) for more specific details and other operations."
      ]
    },
    {
      "cell_type": "markdown",
      "metadata": {
        "id": "urOzOtpvC6H2"
      },
      "source": [
        "#### dictionary.**get(key, *default*)**\r\n",
        "Get the value in dictionary for the given **key**\r\n",
        "\r\n",
        "Returns the **value** of the **key** if the **key** is in the dictionary and **default** (or None if **default** is not present) otherwise."
      ]
    },
    {
      "cell_type": "code",
      "metadata": {
        "id": "xb990zkBDYwM"
      },
      "source": [
        "contacts = {\r\n",
        "  \"john\": \"john_2388\",\r\n",
        "  \"alice\": \"alic3_99\",\r\n",
        "  \"bob\": \"b0b_2021\"\r\n",
        "}\r\n",
        "\r\n",
        "print(contacts.get(\"john\"))"
      ],
      "execution_count": null,
      "outputs": []
    },
    {
      "cell_type": "markdown",
      "metadata": {
        "id": "ma8WSOlVGxsE"
      },
      "source": [
        "Alternatively, for the same operation, the following is also valid."
      ]
    },
    {
      "cell_type": "code",
      "metadata": {
        "id": "kRhRM4DCG2L9"
      },
      "source": [
        "contacts = {\r\n",
        "  \"john\": \"john_2388\",\r\n",
        "  \"alice\": \"alic3_99\",\r\n",
        "  \"bob\": \"b0b_2021\"\r\n",
        "}\r\n",
        "\r\n",
        "print(contacts[\"john\"])"
      ],
      "execution_count": null,
      "outputs": []
    },
    {
      "cell_type": "markdown",
      "metadata": {
        "id": "arN0p1Ln_tcZ"
      },
      "source": [
        "#### key **in** dictionary\r\n",
        "\r\n",
        "Check if the **key** is present in the dictionary."
      ]
    },
    {
      "cell_type": "code",
      "metadata": {
        "id": "BoZdfvRhBooB"
      },
      "source": [
        "contacts = {\r\n",
        "  \"john\": \"john_2388\",\r\n",
        "  \"alice\": \"alic3_99\",\r\n",
        "  \"bob\": \"b0b_2021\"\r\n",
        "}\r\n",
        "\r\n",
        "print(\"john\" in contacts)\r\n",
        "print(\"mike\" in contacts)"
      ],
      "execution_count": null,
      "outputs": []
    },
    {
      "cell_type": "markdown",
      "metadata": {
        "id": "-QPLEIDBB3sS"
      },
      "source": [
        "If the key is present in the dictionary the expression returns `True` and `False` otherwise."
      ]
    },
    {
      "cell_type": "markdown",
      "metadata": {
        "id": "JJLilGz7B-Zg"
      },
      "source": [
        "#### dictionary[**key**] = **value**\r\n",
        "Add **key** and **value** to the dictionary."
      ]
    },
    {
      "cell_type": "code",
      "metadata": {
        "id": "yt6puHZACLk0"
      },
      "source": [
        "contacts = {\r\n",
        "  \"john\": \"john_2388\",\r\n",
        "  \"alice\": \"alic3_99\",\r\n",
        "  \"bob\": \"b0b_2021\"\r\n",
        "}\r\n",
        "\r\n",
        "contacts[\"mike\"] = \"mike_00\"\r\n",
        "print(contacts)"
      ],
      "execution_count": null,
      "outputs": []
    },
    {
      "cell_type": "markdown",
      "metadata": {
        "id": "wWn7GI-2CoN4"
      },
      "source": [
        "#### dictionary.**pop(key, *default*)**\r\n",
        "Remove **key** and its corresponding **value** from the dictionary.\r\n",
        "\r\n",
        "Returns the **value** of the **key** if the **key** is in the dictionary and **default** (or None if **default** is not present) otherwise."
      ]
    },
    {
      "cell_type": "code",
      "metadata": {
        "id": "WB1l1WtIERCb"
      },
      "source": [
        "contacts = {\r\n",
        "  \"john\": \"john_2388\",\r\n",
        "  \"alice\": \"alic3_99\",\r\n",
        "  \"bob\": \"b0b_2021\"\r\n",
        "}\r\n",
        "\r\n",
        "username = contacts.pop(\"john\")\r\n",
        "\r\n",
        "print(contacts)\r\n",
        "print(\"John's username is \" + username)"
      ],
      "execution_count": null,
      "outputs": []
    },
    {
      "cell_type": "markdown",
      "metadata": {
        "id": "FtoG-MZYHKeB"
      },
      "source": [
        "## Exercises"
      ]
    },
    {
      "cell_type": "markdown",
      "metadata": {
        "id": "E2CUlW_P2Tor"
      },
      "source": [
        "### **1.** Shopping List\r\n",
        "Using what you've learned, write a program which repeatedly prompts the user for the items to be added to the shopping list. If the user enters **X**, print the list of items and the total number of items.\r\n",
        "\r\n",
        "Example:\r\n",
        "```\r\n",
        "Enter a product name: Bread\r\n",
        "Enter a product name: Cheese\r\n",
        "Enter a product name: Butter\r\n",
        "Enter a product name: X\r\n",
        "\r\n",
        "Shopping List:\r\n",
        "1. Bread\r\n",
        "2. Cheese\r\n",
        "3. Butter\r\n",
        "\r\n",
        "Total number of items: 3\r\n",
        "```\r\n"
      ]
    },
    {
      "cell_type": "code",
      "metadata": {
        "id": "I2heqQr-5ZUo"
      },
      "source": [
        "shopping_list = \r\n",
        "\r\n",
        "# Prompt the user for items in the shopping list until the user enters the letter X\r\n",
        "\r\n",
        "# Print items in the shopping list\r\n",
        "# Print the total number of items"
      ],
      "execution_count": null,
      "outputs": []
    },
    {
      "cell_type": "markdown",
      "metadata": {
        "id": "JDgduQyK8A4a"
      },
      "source": [
        "### **2.** Cell information\r\n",
        "Write a function which given a list of data of a given cell\r\n",
        "prints it in the following format.\r\n",
        "\r\n",
        "```\r\n",
        "Cell ID: **ID**\r\n",
        "Generation: **Generation**\r\n",
        "Location: (**x**, **y**)\r\n",
        "Energy: **Energy**\r\n",
        "Sense distance: **Distance**\r\n",
        "```\r\n",
        "\r\n",
        "The characteristics of the cell are in the following order: ID, generation, location, energy, sense distance. Recall that lists\r\n",
        "are *ordered*.\r\n",
        "\r\n",
        "Example of cell data and output.\r\n",
        "\r\n",
        "```python\r\n",
        "cell_data = [123123, 0, 5, 6, 50, 10]\r\n",
        "```\r\n",
        "\r\n",
        "```\r\n",
        "Cell ID: 123123\r\n",
        "Generation: 0\r\n",
        "Location: (5, 6)\r\n",
        "Energy: 50\r\n",
        "Sense distance: 10\r\n",
        "```"
      ]
    },
    {
      "cell_type": "code",
      "metadata": {
        "id": "qc4NrUwW_Gnz"
      },
      "source": [
        "def print_cell_data(cell_data):\r\n",
        "  # Print the cell data as specified\r\n",
        "\r\n",
        "print_cell_data([435, 1, 23, 25, 20, 5])"
      ],
      "execution_count": null,
      "outputs": []
    },
    {
      "cell_type": "markdown",
      "metadata": {
        "id": "4esqbbMq_mjw"
      },
      "source": [
        "### **3.** Cell information (extension - part 1)\r\n",
        "You might have noticed that `[435, 1, 23, 25, 20, 5]` is hard to understand at a first glance.\r\n",
        "Storing the data of a cell in this format is also error prone.\r\n",
        "\r\n",
        "Using what you have learned about dictionaries write an alternative representation of this information `[435, 1, 23, 25, 20, 5]`.\r\n"
      ]
    },
    {
      "cell_type": "code",
      "metadata": {
        "id": "sRruouHiAXSA"
      },
      "source": [
        "cell_data_improved = {\r\n",
        "\r\n",
        "}\r\n",
        "\r\n",
        "# For verification purposes. Do not change\r\n",
        "verify_cell_data(cell_data_improved)"
      ],
      "execution_count": null,
      "outputs": []
    }
  ]
}