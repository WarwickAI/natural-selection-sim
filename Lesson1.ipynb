{
  "nbformat": 4,
  "nbformat_minor": 0,
  "metadata": {
    "colab": {
      "name": "Untitled6.ipynb",
      "provenance": [],
      "collapsed_sections": [],
      "toc_visible": true,
      "include_colab_link": true
    },
    "kernelspec": {
      "name": "python3",
      "display_name": "Python 3"
    }
  },
  "cells": [
    {
      "cell_type": "markdown",
      "metadata": {
        "id": "view-in-github",
        "colab_type": "text"
      },
      "source": [
        "<a href=\"https://colab.research.google.com/github/WarwickAI/natural-selection-sim/blob/main/Lesson1.ipynb\" target=\"_parent\"><img src=\"https://colab.research.google.com/assets/colab-badge.svg\" alt=\"Open In Colab\"/></a>"
      ]
    },
    {
      "cell_type": "markdown",
      "metadata": {
        "id": "ZEBntgcw3lLt"
      },
      "source": [
        "# Part 1 - Variables\r\n",
        "\r\n",
        "\r\n",
        "The first thing we're going to do, is create some variables. \r\n",
        "\r\n",
        "Variables are just containers for storing data values. \r\n",
        "\r\n",
        "These values can be different types. For today, we'll focus on **strings** (words), **integers** (numbers) and **booleans** (true or false).\r\n",
        "\r\n",
        "### Ints & Strings\r\n",
        "To declare a string, we have to use quotes (single or double quotes are both fine)  \r\n"
      ]
    },
    {
      "cell_type": "code",
      "metadata": {
        "id": "QBj4zwY71_c9"
      },
      "source": [
        "myFirstInteger = 5\r\n",
        "myFirstString = 'It'"
      ],
      "execution_count": 7,
      "outputs": []
    },
    {
      "cell_type": "markdown",
      "metadata": {
        "id": "SGjMXqFM4MA3"
      },
      "source": [
        "The equals (=) assigns the value on the right, to the identifier on the left. We now have an integer (5) stored in myFirstInteger , and \"Hello World\" stored in myFirstString . Note that myFirstInteger and myFirstString can be whatever you like - we've just used these letters for simplicity. \r\n",
        "\r\n",
        "You'll note that if you run the program now, nothing happens. That's because we haven't actually done anything with these variables. This is where we introduce our first function. Functions take values, and perform some action. In the case of print(), the action is the printing of the value to the terminal."
      ]
    },
    {
      "cell_type": "code",
      "metadata": {
        "id": "uTqAWeLx4O2w"
      },
      "source": [
        "myFirstInteger = 5 \r\n",
        "myFirstString = \"Hello World\"\r\n",
        "\r\n",
        "print(myFirstInteger)\r\n",
        "print(myFirstString) "
      ],
      "execution_count": null,
      "outputs": []
    },
    {
      "cell_type": "markdown",
      "metadata": {
        "id": "4r8_0M_I4Tvk"
      },
      "source": [
        "Note that the above code is the same as:"
      ]
    },
    {
      "cell_type": "code",
      "metadata": {
        "id": "lF5zl1_b4WrA"
      },
      "source": [
        "print(5)\r\n",
        "print(\"Hello World\") "
      ],
      "execution_count": null,
      "outputs": []
    },
    {
      "cell_type": "markdown",
      "metadata": {
        "id": "RLV4c2mF4cMp"
      },
      "source": [
        "### Booleans\r\n",
        "\r\n",
        "Another type of variable alongside strings and integers that we often use in Python is the Boolean type. \r\n",
        "\r\n",
        "A Boolean is simply a type that can have one of two values - usually denoted as true or false. It's named after George Boole who first defined an algebraic system of logic in the mid 19th century.  "
      ]
    },
    {
      "cell_type": "code",
      "metadata": {
        "id": "z2J74q9d40b8"
      },
      "source": [
        "t = True\r\n",
        "f = False\r\n",
        "\r\n",
        "print(t)\r\n",
        "print(f)"
      ],
      "execution_count": null,
      "outputs": []
    },
    {
      "cell_type": "markdown",
      "metadata": {
        "id": "lVpolSir4zcH"
      },
      "source": [
        "When we print booleans they simply display \"True\" or \"False\" in the terminal. Although it might not seem like it, Booleans turn out to be extremely useful, which we'll come on to in Part 2 - Operators."
      ]
    },
    {
      "cell_type": "markdown",
      "metadata": {
        "id": "KsTzkA5P5GpN"
      },
      "source": [
        "# Part 2 - Operators \r\n",
        "### Arithmetic Operators\r\n",
        "Let's move on to some operators. The standard mathematical operators we can use in Python are...\r\n",
        "\r\n",
        "\r\n",
        "```\r\n",
        "+ addition\r\n",
        "/ division\r\n",
        "-  subtraction \r\n",
        "** power\r\n",
        "% modulo\r\n",
        "```\r\n",
        "\r\n",
        "Let's use some of these operators. What do you think the results are going to be? Run the program and find out."
      ]
    },
    {
      "cell_type": "code",
      "metadata": {
        "id": "xcqwZ58M5F60"
      },
      "source": [
        "x = (2+2) / 4\r\n",
        "y = (10 - 5) ** 2\r\n",
        "z = 13 % 5\r\n",
        "\r\n",
        "print(x)\r\n",
        "print(y)\r\n",
        "print(z)"
      ],
      "execution_count": null,
      "outputs": []
    },
    {
      "cell_type": "markdown",
      "metadata": {
        "id": "M0NqU_w75ay-"
      },
      "source": [
        "Interestingly enough, we can also use one of these operators - the plus operator - for strings..."
      ]
    },
    {
      "cell_type": "code",
      "metadata": {
        "id": "gs1EW_HA5dM9"
      },
      "source": [
        "a = \"Hello\"\r\n",
        "b = \"World\" \r\n",
        "print(a + b)"
      ],
      "execution_count": null,
      "outputs": []
    },
    {
      "cell_type": "markdown",
      "metadata": {
        "id": "FA87yo_W5eJY"
      },
      "source": [
        "**Exercise 1**) Run this code. You'll notice a problem - there's no space between the words. \r\n",
        "\r\n",
        "There are two ways we can fix this: either add a space to the variable a, making it \"Hello \", or add the space in the print statement. It's better in this case to do the latter. Type it out here:"
      ]
    },
    {
      "cell_type": "code",
      "metadata": {
        "id": "f7H3Wsrb5ubW"
      },
      "source": [
        "# enter code here\r\n"
      ],
      "execution_count": null,
      "outputs": []
    },
    {
      "cell_type": "markdown",
      "metadata": {
        "id": "cnfgP_5Z5vBd"
      },
      "source": [
        "What if we want to print an integer, and a string in the same print call? In this case, we have a problem. All arguments (the things inside the brackets that get passed to the function) have to be of the same type.\r\n",
        "\r\n",
        "Therefore, in order to print both an integer and a string at the same time, we have to convert the integer into a string.\r\n",
        "\r\n",
        "This is done with the str() function. It takes an integer, and returns the string version of that number in it's place, as follows: "
      ]
    },
    {
      "cell_type": "code",
      "metadata": {
        "id": "SmjX0j815wxq"
      },
      "source": [
        "number = 999\r\n",
        "\r\n",
        "print(\"We're going to print a number here: \" + str(number))"
      ],
      "execution_count": null,
      "outputs": []
    },
    {
      "cell_type": "markdown",
      "metadata": {
        "id": "wAYEnJUR59aX"
      },
      "source": [
        "**Exercise 2**) In our simulation we're going to have some cells. The cells feed on food. We're going to want to add some food to the environment for the cells to eat. Each peice of food will have an energy value. \r\n",
        "\r\n",
        "In the box below, print \"Adding 35 food with energy 20!\""
      ]
    },
    {
      "cell_type": "code",
      "metadata": {
        "id": "rgiEgrS559Co"
      },
      "source": [
        "num_food = input('Enter number of food: ')\r\n",
        "energy = input('Enter food energy: ')\r\n",
        "\r\n",
        "<your print statement goes here> "
      ],
      "execution_count": null,
      "outputs": []
    },
    {
      "cell_type": "markdown",
      "metadata": {
        "id": "ZQG3iQ8B7VzY"
      },
      "source": [
        "### Assignment Operators\r\n",
        "We've already seen one assignment operator; **=**\r\n",
        "\r\n",
        "Equals can be combined with all of the other mathematical operators to make new operators, like **+=**, **/=**, **-=**"
      ]
    },
    {
      "cell_type": "code",
      "metadata": {
        "id": "hUhXrqIP7Yv6"
      },
      "source": [
        "a = 6\r\n",
        "a = a / 2 # this is equivalent to a = 6 divided by 2\r\n",
        "print(a)\r\n",
        "\r\n",
        "b = 6\r\n",
        "b /= 2 # this is also equivalent to a = 6 divided by 2"
      ],
      "execution_count": null,
      "outputs": []
    },
    {
      "cell_type": "markdown",
      "metadata": {
        "id": "1ori9UhT751J"
      },
      "source": [
        "**Exercise 3**) Without running it, what does the following code output for the value of a, b and c? Once you have your answers, run the see if you were correct."
      ]
    },
    {
      "cell_type": "code",
      "metadata": {
        "id": "jSFGo6qv77RL"
      },
      "source": [
        "a = 12345\r\n",
        "a *= 2\r\n",
        "print(a) \r\n",
        "\r\n",
        "b = 2\r\n",
        "b **= 6\r\n",
        "print(b)\r\n",
        "\r\n",
        "c = 10 \r\n",
        "d = 7\r\n",
        "d %= 5\r\n",
        "c += 100 / d\r\n",
        "print(c)"
      ],
      "execution_count": null,
      "outputs": []
    },
    {
      "cell_type": "markdown",
      "metadata": {
        "id": "Oh3knY688Mk6"
      },
      "source": [
        "### Comparison Operators\r\n",
        "Remember those Booleans we discussed earlier? There are a few fun things we can do with those. To illustrate the concept of these operators, we'll introduce a new function - input(), which takes input from the user.\r\n",
        "\r\n",
        "The first comparison operator we're going to look at is ==, e.g. x == y\r\n",
        "\r\n",
        "You can read this as \"x is equal to y\" or \"x is equiavelnt to y\". \r\n",
        "\r\n",
        "Consider the following code. it's going to take a number from the user, and then print whether or not that number is equivalent to 10. The result will be a Boolean value - either True or False. This value is then printed."
      ]
    },
    {
      "cell_type": "code",
      "metadata": {
        "id": "83twyY9w8MLp"
      },
      "source": [
        "number = input(\"Enter a number: \")\r\n",
        "\r\n",
        "print(number == 1)"
      ],
      "execution_count": null,
      "outputs": []
    },
    {
      "cell_type": "markdown",
      "metadata": {
        "id": "MVmbw_zX8wkK"
      },
      "source": [
        "**Exercise 4**) Run the above code, and enter the number 1, then run the code again and enter 2. What do you expect to be displayed on each run?\r\n",
        "\r\n",
        "You might be suprised to notice that it returns false both times, even when you enter 1. This is because **==** checks the types of the variables, as well as the values. input() returns the user input in the form of a string, while 1 is an integer. \r\n",
        "\r\n",
        "Convert the user input into a string with str() as before, or convert the userValue into an int as below, before comparing. "
      ]
    },
    {
      "cell_type": "code",
      "metadata": {
        "id": "rLdHbsdh9H0m"
      },
      "source": [
        "# enter code here\r\n"
      ],
      "execution_count": null,
      "outputs": []
    },
    {
      "cell_type": "markdown",
      "metadata": {
        "id": "n5pNKfFs9I32"
      },
      "source": [
        "Other comparison operators include \r\n",
        "\r\n",
        "```\r\n",
        "> - greater than\r\n",
        "< - less than\r\n",
        ">= greater than or equal to\r\n",
        "<= less than or equal to\r\n",
        "```\r\n",
        "\r\n",
        "What 3 Boolean value would the following code print?\r\n",
        "\r\n"
      ]
    },
    {
      "cell_type": "code",
      "metadata": {
        "id": "0OBzHL8J9XbW"
      },
      "source": [
        "x = 10\r\n",
        "y = 10\r\n",
        "\r\n",
        "print(x == y)\r\n",
        "print(x != y)\r\n",
        "print(y > 10)\r\n",
        "print(x >= 10)"
      ],
      "execution_count": null,
      "outputs": []
    },
    {
      "cell_type": "markdown",
      "metadata": {
        "id": "qBpZaZOK9iW5"
      },
      "source": [
        "# Part 3 - Functions\r\n",
        "We've already used a couple of functions:\r\n",
        "* print() to display information\r\n",
        "* input() to get it from the user\r\n",
        "* int() to convert to integer\r\n",
        "* str() to convert to string\r\n",
        "\r\n",
        "However, what if you want to make your own functions? Well we can do just that. \r\n",
        "\r\n",
        "Functions are defined using the `def` keyword, followed by a name for the function. Remember that the indented code below def will NEVER run until you CALL the function using the function name, as shown below. \r\n",
        "\r\n",
        "Functions are called using the function name, followed by brackets, e.g. myFunction()"
      ]
    },
    {
      "cell_type": "code",
      "metadata": {
        "id": "OsTof1mx9mSX"
      },
      "source": [
        "# this is a definition of a function\r\n",
        "def myFunction():\r\n",
        "  print(\"Hello, I'm in a function!\")\r\n",
        "\r\n",
        "# this is how you run the function\r\n",
        "myFunction()"
      ],
      "execution_count": null,
      "outputs": []
    },
    {
      "cell_type": "markdown",
      "metadata": {
        "id": "XN7_pAnt90ic"
      },
      "source": [
        "You can also add values in between the brackets, and use them as variables in a function. What do you think the following will result in?"
      ]
    },
    {
      "cell_type": "code",
      "metadata": {
        "id": "UQtfWjJx92U_"
      },
      "source": [
        "def myFunction(a, b):\r\n",
        "  print(\"Hello, I'm in a function!\")\r\n",
        "  print(a)\r\n",
        "  print(b)\r\n",
        "\r\n",
        "myFunction(\"argument 1\", \"argument 2\")"
      ],
      "execution_count": null,
      "outputs": []
    },
    {
      "cell_type": "markdown",
      "metadata": {
        "id": "H-0ccfYo-RfK"
      },
      "source": [
        "Functions can also return values. Thus, we can set the value of a variable to a function."
      ]
    },
    {
      "cell_type": "code",
      "metadata": {
        "id": "biGts9L5-SVD"
      },
      "source": [
        "def findAverage(a, b):\r\n",
        "  total = a + b\r\n",
        "  return total / 2\r\n",
        "\r\n",
        "avg = findAverage(1343465, 2094838)\r\n",
        "\r\n",
        "print(avg)"
      ],
      "execution_count": null,
      "outputs": []
    },
    {
      "cell_type": "markdown",
      "metadata": {
        "id": "XdFVIvO2-ioG"
      },
      "source": [
        "**Exercise 5**) Write a function isGreaterThan() that takes two numbers, a and b, and returns a Boolean value, specifying whether a is greater than b. Print the result."
      ]
    },
    {
      "cell_type": "code",
      "metadata": {
        "id": "6cqRIQ96-q7p"
      },
      "source": [
        "# enter the code here"
      ],
      "execution_count": null,
      "outputs": []
    },
    {
      "cell_type": "markdown",
      "metadata": {
        "id": "7U3QXkUGXZmk"
      },
      "source": [
        "**Exercise 6**) Write a function distance(x1, y1, x2, y2) which returns the distance between the points (x1, y1) and (x2, y2)."
      ]
    },
    {
      "cell_type": "code",
      "metadata": {
        "id": "EevIW0ZRXoUa"
      },
      "source": [
        "from math import sqrt\r\n",
        "\r\n",
        "def distance(x1, y1, x2, y2):\r\n",
        "  # code here"
      ],
      "execution_count": 12,
      "outputs": []
    }
  ]
}