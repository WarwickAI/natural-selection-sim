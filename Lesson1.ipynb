{
  "nbformat": 4,
  "nbformat_minor": 0,
  "metadata": {
    "colab": {
      "name": "Untitled6.ipynb",
      "provenance": [],
      "collapsed_sections": [],
      "authorship_tag": "ABX9TyMiLDVxkqkpMMFRvVBuOvxW",
      "include_colab_link": true
    },
    "kernelspec": {
      "name": "python3",
      "display_name": "Python 3"
    }
  },
  "cells": [
    {
      "cell_type": "markdown",
      "metadata": {
        "id": "view-in-github",
        "colab_type": "text"
      },
      "source": [
        "<a href=\"https://colab.research.google.com/github/WarwickAI/natural-selection-sim/blob/main/Lesson1.ipynb\" target=\"_parent\"><img src=\"https://colab.research.google.com/assets/colab-badge.svg\" alt=\"Open In Colab\"/></a>"
      ]
    },
    {
      "cell_type": "markdown",
      "metadata": {
        "id": "ZEBntgcw3lLt"
      },
      "source": [
        "# Part 1 - Variables\r\n",
        "\r\n",
        "\r\n",
        "The first thing we're going to do, is create some variables. \r\n",
        "\r\n",
        "Variables are just containers for storing data values. \r\n",
        "\r\n",
        "These values can be different types. For today, we'll focus on **strings** (words), **integers** (numbers) and **booleans** (true or false).\r\n",
        "\r\n",
        "To declare a string, we have to use quotes (single or double quotes are both fine)  \r\n"
      ]
    },
    {
      "cell_type": "code",
      "metadata": {
        "id": "QBj4zwY71_c9"
      },
      "source": [
        "print(\"testing\")"
      ],
      "execution_count": null,
      "outputs": []
    }
  ]
}